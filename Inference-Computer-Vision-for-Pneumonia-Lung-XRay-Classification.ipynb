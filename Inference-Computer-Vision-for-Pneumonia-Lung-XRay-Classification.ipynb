{
 "cells": [
  {
   "cell_type": "markdown",
   "metadata": {},
   "source": [
    "# **Inference - Computer Vision for Pneumonia Lung X-Ray Classification**\n",
    "\n",
    "**`Created by:`**\n",
    "\n",
    "Michael Nathaniel"
   ]
  },
  {
   "cell_type": "markdown",
   "metadata": {},
   "source": [
    "---\n",
    "## **Perkenalan**\n",
    "\n",
    "**`Informasi Dataset:`**\n",
    "\n",
    "Dataset ini terdiri dari gambar X-ray dada anak-anak yang dikumpulkan di Guangzhou Women and Children's Medical Center, Guangzhou, China. Dataset ini mencakup total 5.863 gambar X-ray dalam format JPEG, yang dikategorikan menjadi dua kelas: Pneumonia dan Normal. Gambar-gambar ini telah digunakan untuk mengembangkan sistem kecerdasan buatan untuk analisis X-ray dada.\n",
    "\n",
    "**`Objective:`**\n",
    "\n",
    "Proyek ini bertujuan mengembangkan model komputer yang dapat melakukan klasifikasi apakah seseorang menderita Pneumonia atau tidak, berdasarkan hasil X-ray paru-paru pasien. Pendekatan yang diterapkan dalam pembuatan model ini adalah konsep Computer Vision, dengan implementasi arsitektur Artificial Neural Network untuk memahami hubungan kompleks antara gambar X-ray dan keberadaan Pneumonia. Prinsip dasar proyek ini melibatkan pelatihan model untuk mengenali pola dan fitur pada gambar X-ray yang menunjukkan adanya Pneumonia. Dengan demikian, proyek ini bersifat esensial dalam pengaplikasian teknologi kecerdasan buatan dalam bidang diagnostik medis.\n",
    "\n",
    "**`Problems:`** \n",
    "\n",
    "Buatlah model komputer yang dapat melakukan klasifikasi apakah seseorang menderita Pneumonia atau tidak, berdasarkan hasil X-ray paru-paru pasien."
   ]
  },
  {
   "cell_type": "markdown",
   "metadata": {},
   "source": [
    "---\n",
    "## **Model Inference**"
   ]
  },
  {
   "cell_type": "markdown",
   "metadata": {},
   "source": [
    "### **1. Import Modul**"
   ]
  },
  {
   "cell_type": "markdown",
   "metadata": {},
   "source": [
    "Kita akan mengimport modul modul yang diperlukan terlebih dahulu"
   ]
  },
  {
   "cell_type": "code",
   "execution_count": 1,
   "metadata": {},
   "outputs": [],
   "source": [
    "import requests\n",
    "import numpy as np\n",
    "\n",
    "from PIL import Image\n",
    "from io import BytesIO\n",
    "from keras.models import load_model\n",
    "from keras.preprocessing.image import img_to_array"
   ]
  },
  {
   "cell_type": "markdown",
   "metadata": {},
   "source": [
    "### **2. Load Model**"
   ]
  },
  {
   "cell_type": "markdown",
   "metadata": {},
   "source": [
    "Pertama-tama, kita akan meload model terlebih dahulu."
   ]
  },
  {
   "cell_type": "code",
   "execution_count": 2,
   "metadata": {},
   "outputs": [],
   "source": [
    "# Melakukan import model\n",
    "model = load_model(\"model_final.h5\")"
   ]
  },
  {
   "cell_type": "markdown",
   "metadata": {},
   "source": [
    "### **3. Input Data Inference**"
   ]
  },
  {
   "cell_type": "code",
   "execution_count": 3,
   "metadata": {},
   "outputs": [],
   "source": [
    "# Membuat URL data inferece\n",
    "xray_paru_normal_image_url = 'https://prod-images-static.radiopaedia.org/images/220869/76052f7902246ff862f52f5d3cd9cd_big_gallery.jpg'\n",
    "xray_paru_pneumonia_image_url = 'https://img.medscapestatic.com/pi/meds/ckb/58/16958tn.jpg'"
   ]
  },
  {
   "cell_type": "markdown",
   "metadata": {},
   "source": [
    "### **4. Jalankan Inference**"
   ]
  },
  {
   "cell_type": "code",
   "execution_count": 4,
   "metadata": {},
   "outputs": [],
   "source": [
    "# Buat fungsi untuk preprocessing foto\n",
    "def preprocess_image(image_path):\n",
    "    # Download foto dari URL\n",
    "    response = requests.get(image_path)\n",
    "    img = Image.open(BytesIO(response.content))\n",
    "    \n",
    "    # Resize foto menjadi sesuai dengan target size\n",
    "    img = img.resize((150, 150))\n",
    "    \n",
    "    # Convert foto menjadi numpy array\n",
    "    img_array = img_to_array(img)\n",
    "    \n",
    "    # Mengekspnasi dimensi and normalisasi pixel values\n",
    "    img_array = np.expand_dims(img_array, axis=0) / 255.0\n",
    "\n",
    "    return img_array"
   ]
  },
  {
   "cell_type": "code",
   "execution_count": 5,
   "metadata": {},
   "outputs": [],
   "source": [
    "# Membuat fungsi untuk melakukan prediksi\n",
    "def predict_pneumonia(image_path):\n",
    "    # melakukan preproces foto\n",
    "    img_array = preprocess_image(image_path)\n",
    "    \n",
    "    # Menjalankan prediksi\n",
    "    prediction = model.predict(img_array)\n",
    "    \n",
    "    # mengkonversi hasil prediksi menjadi dapat dibaca manusia\n",
    "    if prediction[0][0] > 0.7:\n",
    "        return \"Pneumonia\"\n",
    "    else:\n",
    "        return \"Normal\""
   ]
  },
  {
   "cell_type": "code",
   "execution_count": 6,
   "metadata": {},
   "outputs": [
    {
     "name": "stdout",
     "output_type": "stream",
     "text": [
      "1/1 [==============================] - 0s 258ms/step\n",
      "1/1 [==============================] - 0s 49ms/step\n"
     ]
    }
   ],
   "source": [
    "normal_prediction = predict_pneumonia(xray_paru_normal_image_url)\n",
    "pneumonia_prediction = predict_pneumonia(xray_paru_pneumonia_image_url)"
   ]
  },
  {
   "cell_type": "code",
   "execution_count": 7,
   "metadata": {},
   "outputs": [
    {
     "name": "stdout",
     "output_type": "stream",
     "text": [
      "Prediksi untuk foto paru-paru normal: Normal\n",
      "Prediksi untuk foto pari-paru pneumonia: Pneumonia\n"
     ]
    }
   ],
   "source": [
    "# Display the predictions\n",
    "print(f\"Prediksi untuk foto paru-paru normal: {normal_prediction}\")\n",
    "print(f\"Prediksi untuk foto pari-paru pneumonia: {pneumonia_prediction}\")"
   ]
  }
 ],
 "metadata": {
  "kernelspec": {
   "display_name": "base",
   "language": "python",
   "name": "python3"
  },
  "language_info": {
   "codemirror_mode": {
    "name": "ipython",
    "version": 3
   },
   "file_extension": ".py",
   "mimetype": "text/x-python",
   "name": "python",
   "nbconvert_exporter": "python",
   "pygments_lexer": "ipython3",
   "version": "3.11.4"
  }
 },
 "nbformat": 4,
 "nbformat_minor": 2
}
